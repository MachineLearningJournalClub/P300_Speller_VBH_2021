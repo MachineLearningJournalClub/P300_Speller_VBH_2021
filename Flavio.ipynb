{
 "cells": [
  {
   "cell_type": "code",
   "execution_count": 1,
   "metadata": {},
   "outputs": [],
   "source": [
    "import pandas as pd\n",
    "%matplotlib inline\n",
    "import numpy as np\n",
    "import matplotlib.pyplot as plt\n",
    "import scipy.io\n",
    "\n",
    "odb_1 = scipy.io.loadmat('data/P1_odb_down.mat')\n",
    "std_1 = scipy.io.loadmat('data/P1_std_down.mat')\n",
    "\n",
    "odb_2 = scipy.io.loadmat('data/P2_odb_down.mat')\n",
    "std_2 = scipy.io.loadmat('data/P2_std_down.mat')\n",
    "\n",
    "odb_3 = scipy.io.loadmat('data/P3_odb_down.mat')\n",
    "std_3 = scipy.io.loadmat('data/P3_std_down.mat')\n",
    "\n",
    "odb_4 = scipy.io.loadmat('data/P4_odb_down.mat')\n",
    "std_4 = scipy.io.loadmat('data/P4_std_down.mat')\n",
    "\n",
    "odb_5 = scipy.io.loadmat('data/P5_odb_down.mat')\n",
    "std_5 = scipy.io.loadmat('data/P5_std_down.mat')"
   ]
  },
  {
   "cell_type": "code",
   "execution_count": 2,
   "metadata": {},
   "outputs": [],
   "source": [
    "X_std_1 = std_1['E_std_down']\n",
    "X_odb_1 = odb_1['E_odb_down']\n",
    "\n",
    "X_std_2 = std_2['E_std_down']\n",
    "X_odb_2 = odb_2['E_odb_down']\n",
    "\n",
    "X_std_3 = std_3['E_std_down']\n",
    "X_odb_3 = odb_3['E_odb_down']\n",
    "\n",
    "X_std_4 = std_4['E_std_down']\n",
    "X_odb_4 = odb_4['E_odb_down']\n",
    "\n",
    "X_std_5 = std_5['E_std_down']\n",
    "X_odb_5 = odb_5['E_odb_down']"
   ]
  },
  {
   "cell_type": "code",
   "execution_count": 3,
   "metadata": {},
   "outputs": [],
   "source": [
    "data_std_1 = pd.DataFrame(X_std_1)\n",
    "data_odb_1 = pd.DataFrame(X_odb_1)\n",
    "\n",
    "data_std_2 = pd.DataFrame(X_std_2)\n",
    "data_odb_2 = pd.DataFrame(X_odb_2)\n",
    "\n",
    "data_std_3 = pd.DataFrame(X_std_3)\n",
    "data_odb_3 = pd.DataFrame(X_odb_3)\n",
    "\n",
    "data_std_4 = pd.DataFrame(X_std_4)\n",
    "data_odb_4 = pd.DataFrame(X_odb_4)\n",
    "\n",
    "data_std_5 = pd.DataFrame(X_std_5)\n",
    "data_odb_5 = pd.DataFrame(X_odb_5)"
   ]
  },
  {
   "cell_type": "code",
   "execution_count": 4,
   "metadata": {},
   "outputs": [],
   "source": [
    "data_odb_1['y'] = np.ones((150))\n",
    "data_std_1['y'] = np.ones((1050))*(-1)\n",
    "\n",
    "data_odb_2['y'] = np.ones((150))\n",
    "data_std_2['y'] = np.ones((1050))*(-1)\n",
    "\n",
    "data_odb_3['y'] = np.ones((150))\n",
    "data_std_3['y'] = np.ones((1050))*(-1)\n",
    "\n",
    "data_odb_4['y'] = np.ones((150))\n",
    "data_std_4['y'] = np.ones((1050))*(-1)\n",
    "\n",
    "data_odb_5['y'] = np.ones((150))\n",
    "data_std_5['y'] = np.ones((1050))*(-1)"
   ]
  },
  {
   "cell_type": "code",
   "execution_count": 5,
   "metadata": {},
   "outputs": [],
   "source": [
    "data_1 = pd.concat([data_odb_1,data_std_1[:150]])\n",
    "\n",
    "data_2 = pd.concat([data_odb_2,data_std_2[:150]])\n",
    "\n",
    "data_3 = pd.concat([data_odb_3,data_std_3[:150]])\n",
    "\n",
    "data_4 = pd.concat([data_odb_4,data_std_4[:150]])\n",
    "\n",
    "data_5 = pd.concat([data_odb_5,data_std_5[:150]])"
   ]
  },
  {
   "cell_type": "code",
   "execution_count": 6,
   "metadata": {},
   "outputs": [],
   "source": [
    "data_1 = data_1.sample(frac=1, random_state=0)\n",
    "\n",
    "data_2 = data_2.sample(frac=1, random_state=0)\n",
    "\n",
    "data_3 = data_3.sample(frac=1, random_state=0)\n",
    "\n",
    "data_4 = data_4.sample(frac=1, random_state=0)\n",
    "\n",
    "data_5 = data_5.sample(frac=1, random_state=0)"
   ]
  },
  {
   "cell_type": "code",
   "execution_count": 7,
   "metadata": {},
   "outputs": [],
   "source": [
    "X_1 = data_1.loc[:, data_1.columns != 'y'].to_numpy()\n",
    "y_1 = data_1['y'].to_numpy()\n",
    "\n",
    "X_2 = data_2.loc[:, data_2.columns != 'y'].to_numpy()\n",
    "y_2 = data_2['y'].to_numpy()\n",
    "\n",
    "X_3 = data_3.loc[:, data_3.columns != 'y'].to_numpy()\n",
    "y_3 = data_3['y'].to_numpy()\n",
    "\n",
    "X_4 = data_4.loc[:, data_4.columns != 'y'].to_numpy()\n",
    "y_4 = data_4['y'].to_numpy()\n",
    "\n",
    "X_5 = data_5.loc[:, data_5.columns != 'y'].to_numpy()\n",
    "y_5 = data_5['y'].to_numpy()"
   ]
  },
  {
   "cell_type": "code",
   "execution_count": 8,
   "metadata": {},
   "outputs": [],
   "source": [
    "from sklearn.preprocessing import StandardScaler\n",
    "\n",
    "scaler = StandardScaler()\n",
    "\n",
    "X_1_std = scaler.fit_transform(X_1)\n",
    "\n",
    "X_2_std = scaler.fit_transform(X_2)\n",
    "\n",
    "X_3_std = scaler.fit_transform(X_3)\n",
    "\n",
    "X_4_std = scaler.fit_transform(X_4)\n",
    "\n",
    "X_5_std = scaler.fit_transform(X_5)"
   ]
  },
  {
   "cell_type": "code",
   "execution_count": 9,
   "metadata": {},
   "outputs": [],
   "source": [
    "from sklearn.discriminant_analysis import LinearDiscriminantAnalysis\n",
    "from sklearn.model_selection import train_test_split\n",
    "from sklearn.metrics import classification_report"
   ]
  },
  {
   "cell_type": "code",
   "execution_count": 10,
   "metadata": {},
   "outputs": [
    {
     "data": {
      "text/plain": [
       "array([[ 0.66016006,  0.35634152,  0.62496856, ...,  0.78594186,\n",
       "        -0.48179567, -0.3281694 ],\n",
       "       [ 0.38249088, -0.26478103,  0.16174191, ...,  0.32330199,\n",
       "         0.80400775,  0.48866194],\n",
       "       [-0.69110644,  0.17042471,  0.84766135, ...,  0.01903576,\n",
       "         0.43129134, -0.68283415],\n",
       "       ...,\n",
       "       [-0.31388767,  0.13955576, -0.54517409, ..., -0.09882117,\n",
       "         0.12253003, -0.32698608],\n",
       "       [ 0.09643191, -0.41898515, -0.2753568 , ..., -0.27269401,\n",
       "        -0.66011055,  0.39465488],\n",
       "       [ 0.36677638,  0.18987497, -0.71386462, ...,  1.22284325,\n",
       "         0.29491816, -0.00680592]])"
      ]
     },
     "execution_count": 10,
     "metadata": {},
     "output_type": "execute_result"
    }
   ],
   "source": [
    "X_1_std[:,0:85]"
   ]
  },
  {
   "cell_type": "code",
   "execution_count": 11,
   "metadata": {},
   "outputs": [],
   "source": [
    "X_train_1, X_test_1, y_train_1, y_test_1 = train_test_split(X_1_std, y_1,\n",
    "                                                            test_size=0.1, stratify=y_1, random_state=42)\n",
    "\n",
    "X_train_2, X_test_2, y_train_2, y_test_2 = train_test_split(X_2_std, y_2,\n",
    "                                                            test_size=0.1, stratify=y_2, random_state=42)\n",
    "\n",
    "X_train_3, X_test_3, y_train_3, y_test_3 = train_test_split(X_3_std, y_3,\n",
    "                                                            test_size=0.1, stratify=y_3, random_state=42)\n",
    "\n",
    "X_train_4, X_test_4, y_train_4, y_test_4 = train_test_split(X_4_std, y_4,\n",
    "                                                            test_size=0.1, stratify=y_4, random_state=42)\n",
    "\n",
    "X_train_5, X_test_5, y_train_5, y_test_5 = train_test_split(X_5_std, y_5,\n",
    "                                                            test_size=0.1, stratify=y_5, random_state=42)"
   ]
  },
  {
   "cell_type": "code",
   "execution_count": 12,
   "metadata": {},
   "outputs": [],
   "source": [
    "X_train = np.vstack((X_train_1,X_train_2,X_train_3,X_train_4))\n",
    "y_train = np.hstack((y_train_1,y_train_2,y_train_3,y_train_4))"
   ]
  },
  {
   "cell_type": "code",
   "execution_count": 13,
   "metadata": {},
   "outputs": [
    {
     "data": {
      "text/html": [
       "<div>\n",
       "<style scoped>\n",
       "    .dataframe tbody tr th:only-of-type {\n",
       "        vertical-align: middle;\n",
       "    }\n",
       "\n",
       "    .dataframe tbody tr th {\n",
       "        vertical-align: top;\n",
       "    }\n",
       "\n",
       "    .dataframe thead th {\n",
       "        text-align: right;\n",
       "    }\n",
       "</style>\n",
       "<table border=\"1\" class=\"dataframe\">\n",
       "  <thead>\n",
       "    <tr style=\"text-align: right;\">\n",
       "      <th></th>\n",
       "      <th>0</th>\n",
       "      <th>1</th>\n",
       "      <th>2</th>\n",
       "      <th>3</th>\n",
       "      <th>4</th>\n",
       "      <th>5</th>\n",
       "      <th>6</th>\n",
       "      <th>7</th>\n",
       "      <th>8</th>\n",
       "      <th>9</th>\n",
       "      <th>...</th>\n",
       "      <th>127</th>\n",
       "      <th>128</th>\n",
       "      <th>129</th>\n",
       "      <th>130</th>\n",
       "      <th>131</th>\n",
       "      <th>132</th>\n",
       "      <th>133</th>\n",
       "      <th>134</th>\n",
       "      <th>135</th>\n",
       "      <th>y</th>\n",
       "    </tr>\n",
       "  </thead>\n",
       "  <tbody>\n",
       "    <tr>\n",
       "      <th>0</th>\n",
       "      <td>1.430836</td>\n",
       "      <td>1.078124</td>\n",
       "      <td>0.325472</td>\n",
       "      <td>-0.257132</td>\n",
       "      <td>-0.678663</td>\n",
       "      <td>-1.266310</td>\n",
       "      <td>-1.131225</td>\n",
       "      <td>-0.114271</td>\n",
       "      <td>1.526363</td>\n",
       "      <td>0.230417</td>\n",
       "      <td>...</td>\n",
       "      <td>-0.374042</td>\n",
       "      <td>0.428108</td>\n",
       "      <td>0.494919</td>\n",
       "      <td>0.541443</td>\n",
       "      <td>-0.625490</td>\n",
       "      <td>-0.046604</td>\n",
       "      <td>-0.005975</td>\n",
       "      <td>-0.648095</td>\n",
       "      <td>0.017793</td>\n",
       "      <td>1.0</td>\n",
       "    </tr>\n",
       "    <tr>\n",
       "      <th>1</th>\n",
       "      <td>0.404253</td>\n",
       "      <td>-0.664945</td>\n",
       "      <td>-0.812230</td>\n",
       "      <td>-0.418725</td>\n",
       "      <td>-0.436707</td>\n",
       "      <td>-0.200638</td>\n",
       "      <td>0.550109</td>\n",
       "      <td>1.609472</td>\n",
       "      <td>0.207669</td>\n",
       "      <td>0.784649</td>\n",
       "      <td>...</td>\n",
       "      <td>0.664110</td>\n",
       "      <td>-0.339470</td>\n",
       "      <td>0.733363</td>\n",
       "      <td>-1.184289</td>\n",
       "      <td>1.472521</td>\n",
       "      <td>0.987418</td>\n",
       "      <td>-0.499976</td>\n",
       "      <td>-0.385905</td>\n",
       "      <td>-0.487583</td>\n",
       "      <td>-1.0</td>\n",
       "    </tr>\n",
       "    <tr>\n",
       "      <th>2</th>\n",
       "      <td>-1.109324</td>\n",
       "      <td>-0.849852</td>\n",
       "      <td>0.445107</td>\n",
       "      <td>0.032421</td>\n",
       "      <td>-0.723345</td>\n",
       "      <td>0.960236</td>\n",
       "      <td>-0.041948</td>\n",
       "      <td>-0.699620</td>\n",
       "      <td>-0.792444</td>\n",
       "      <td>0.439816</td>\n",
       "      <td>...</td>\n",
       "      <td>-1.562043</td>\n",
       "      <td>0.268086</td>\n",
       "      <td>0.118605</td>\n",
       "      <td>0.439580</td>\n",
       "      <td>1.133079</td>\n",
       "      <td>0.712399</td>\n",
       "      <td>0.077000</td>\n",
       "      <td>-0.729052</td>\n",
       "      <td>-0.249662</td>\n",
       "      <td>-1.0</td>\n",
       "    </tr>\n",
       "    <tr>\n",
       "      <th>3</th>\n",
       "      <td>0.768406</td>\n",
       "      <td>0.479360</td>\n",
       "      <td>0.861883</td>\n",
       "      <td>0.779610</td>\n",
       "      <td>1.291613</td>\n",
       "      <td>0.045876</td>\n",
       "      <td>-0.150509</td>\n",
       "      <td>-0.158907</td>\n",
       "      <td>0.350779</td>\n",
       "      <td>-0.708267</td>\n",
       "      <td>...</td>\n",
       "      <td>0.387941</td>\n",
       "      <td>0.621212</td>\n",
       "      <td>-1.040548</td>\n",
       "      <td>-0.805404</td>\n",
       "      <td>-0.402308</td>\n",
       "      <td>-1.201806</td>\n",
       "      <td>0.863859</td>\n",
       "      <td>-0.239232</td>\n",
       "      <td>1.206397</td>\n",
       "      <td>1.0</td>\n",
       "    </tr>\n",
       "    <tr>\n",
       "      <th>4</th>\n",
       "      <td>0.387547</td>\n",
       "      <td>0.631630</td>\n",
       "      <td>0.273774</td>\n",
       "      <td>0.049799</td>\n",
       "      <td>-0.789375</td>\n",
       "      <td>0.273200</td>\n",
       "      <td>-0.081125</td>\n",
       "      <td>0.245377</td>\n",
       "      <td>0.484055</td>\n",
       "      <td>-0.470547</td>\n",
       "      <td>...</td>\n",
       "      <td>0.725006</td>\n",
       "      <td>1.245003</td>\n",
       "      <td>-0.203622</td>\n",
       "      <td>1.180171</td>\n",
       "      <td>-0.645822</td>\n",
       "      <td>0.564838</td>\n",
       "      <td>-0.317559</td>\n",
       "      <td>-0.571817</td>\n",
       "      <td>0.630544</td>\n",
       "      <td>1.0</td>\n",
       "    </tr>\n",
       "  </tbody>\n",
       "</table>\n",
       "<p>5 rows × 137 columns</p>\n",
       "</div>"
      ],
      "text/plain": [
       "          0         1         2         3         4         5         6  \\\n",
       "0  1.430836  1.078124  0.325472 -0.257132 -0.678663 -1.266310 -1.131225   \n",
       "1  0.404253 -0.664945 -0.812230 -0.418725 -0.436707 -0.200638  0.550109   \n",
       "2 -1.109324 -0.849852  0.445107  0.032421 -0.723345  0.960236 -0.041948   \n",
       "3  0.768406  0.479360  0.861883  0.779610  1.291613  0.045876 -0.150509   \n",
       "4  0.387547  0.631630  0.273774  0.049799 -0.789375  0.273200 -0.081125   \n",
       "\n",
       "          7         8         9  ...       127       128       129       130  \\\n",
       "0 -0.114271  1.526363  0.230417  ... -0.374042  0.428108  0.494919  0.541443   \n",
       "1  1.609472  0.207669  0.784649  ...  0.664110 -0.339470  0.733363 -1.184289   \n",
       "2 -0.699620 -0.792444  0.439816  ... -1.562043  0.268086  0.118605  0.439580   \n",
       "3 -0.158907  0.350779 -0.708267  ...  0.387941  0.621212 -1.040548 -0.805404   \n",
       "4  0.245377  0.484055 -0.470547  ...  0.725006  1.245003 -0.203622  1.180171   \n",
       "\n",
       "        131       132       133       134       135    y  \n",
       "0 -0.625490 -0.046604 -0.005975 -0.648095  0.017793  1.0  \n",
       "1  1.472521  0.987418 -0.499976 -0.385905 -0.487583 -1.0  \n",
       "2  1.133079  0.712399  0.077000 -0.729052 -0.249662 -1.0  \n",
       "3 -0.402308 -1.201806  0.863859 -0.239232  1.206397  1.0  \n",
       "4 -0.645822  0.564838 -0.317559 -0.571817  0.630544  1.0  \n",
       "\n",
       "[5 rows x 137 columns]"
      ]
     },
     "execution_count": 13,
     "metadata": {},
     "output_type": "execute_result"
    }
   ],
   "source": [
    "data = pd.DataFrame(X_train)\n",
    "data['y'] = y_train\n",
    "data.head()"
   ]
  },
  {
   "cell_type": "code",
   "execution_count": 14,
   "metadata": {},
   "outputs": [],
   "source": [
    "data = data.sample(frac=1, random_state=0)"
   ]
  },
  {
   "cell_type": "code",
   "execution_count": 15,
   "metadata": {},
   "outputs": [],
   "source": [
    "X_train = data.loc[:, data.columns != 'y'].to_numpy()\n",
    "#X_generated = np.random.normal(0, 0.5, (1350,136))\n",
    "#X_train = np.vstack((X_train, X_generated))\n",
    "y_train = data['y'].to_numpy()"
   ]
  },
  {
   "cell_type": "code",
   "execution_count": 16,
   "metadata": {},
   "outputs": [],
   "source": [
    "from imblearn.over_sampling import RandomOverSampler, SMOTE\n",
    "\n",
    "oversample = SMOTE()\n",
    "#oversample = RandomOverSampler(sampling_strategy='minority')\n",
    "#X_train, y_train = oversample.fit_resample(X_train, y_train)"
   ]
  },
  {
   "cell_type": "code",
   "execution_count": 17,
   "metadata": {},
   "outputs": [],
   "source": [
    "from sklearn import tree\n",
    "from sklearn.ensemble import RandomForestClassifier\n",
    "from sklearn.discriminant_analysis import LinearDiscriminantAnalysis\n",
    "from sklearn import svm\n",
    "from sklearn.neural_network import MLPClassifier\n",
    "from sklearn.multioutput import MultiOutputClassifier\n",
    "\n",
    "#svc = svm.SVC(kernel='rbf')\n",
    "#clf = MultiOutputClassifier(svc)\n",
    "#clf = RandomForestClassifier(max_depth=100, random_state=0)\n",
    "#clf = LinearDiscriminantAnalysis()\n",
    "#clf = MLPClassifier(random_state=1, max_iter=3400)\n",
    "clf = svm.SVC(kernel='rbf')\n",
    "clf = clf.fit(X_train, y_train)"
   ]
  },
  {
   "cell_type": "code",
   "execution_count": 18,
   "metadata": {},
   "outputs": [],
   "source": [
    "from sklearn.metrics import roc_curve"
   ]
  },
  {
   "cell_type": "code",
   "execution_count": 19,
   "metadata": {},
   "outputs": [
    {
     "name": "stdout",
     "output_type": "stream",
     "text": [
      "              precision    recall  f1-score   support\n",
      "\n",
      "        -1.0       0.76      0.87      0.81        15\n",
      "         1.0       0.85      0.73      0.79        15\n",
      "\n",
      "    accuracy                           0.80        30\n",
      "   macro avg       0.81      0.80      0.80        30\n",
      "weighted avg       0.81      0.80      0.80        30\n",
      "\n"
     ]
    }
   ],
   "source": [
    "y_pred_1 = clf.predict(X_test_1)\n",
    "\n",
    "report_1 = classification_report(y_test_1, y_pred_1)  \n",
    "print(report_1)"
   ]
  },
  {
   "cell_type": "code",
   "execution_count": 21,
   "metadata": {},
   "outputs": [
    {
     "data": {
      "image/png": "[encoded data removed]",
      "text/plain": [
       "<Figure size 432x288 with 1 Axes>"
      ]
     },
     "metadata": {
      "needs_background": "light"
     },
     "output_type": "display_data"
    }
   ],
   "source": [
    "lr_fpr, lr_tpr, _ = roc_curve(y_test_1, y_pred_1)\n",
    "\n",
    "plt.plot(lr_fpr, lr_tpr, marker='.')\n",
    "plt.show()"
   ]
  },
  {
   "cell_type": "code",
   "execution_count": 22,
   "metadata": {},
   "outputs": [
    {
     "name": "stdout",
     "output_type": "stream",
     "text": [
      "              precision    recall  f1-score   support\n",
      "\n",
      "        -1.0       0.93      0.93      0.93        15\n",
      "         1.0       0.93      0.93      0.93        15\n",
      "\n",
      "    accuracy                           0.93        30\n",
      "   macro avg       0.93      0.93      0.93        30\n",
      "weighted avg       0.93      0.93      0.93        30\n",
      "\n"
     ]
    }
   ],
   "source": [
    "y_pred_2 = clf.predict(X_test_2)\n",
    "\n",
    "report_2 = classification_report(y_test_2, y_pred_2)  \n",
    "print(report_2)"
   ]
  },
  {
   "cell_type": "code",
   "execution_count": 23,
   "metadata": {},
   "outputs": [
    {
     "data": {
      "image/png": "[encoded data removed]",
      "text/plain": [
       "<Figure size 432x288 with 1 Axes>"
      ]
     },
     "metadata": {
      "needs_background": "light"
     },
     "output_type": "display_data"
    }
   ],
   "source": [
    "lr_fpr, lr_tpr, _ = roc_curve(y_test_2, y_pred_2)\n",
    "\n",
    "plt.plot(lr_fpr, lr_tpr, marker='.')\n",
    "plt.show()"
   ]
  },
  {
   "cell_type": "code",
   "execution_count": 24,
   "metadata": {
    "scrolled": true
   },
   "outputs": [
    {
     "name": "stdout",
     "output_type": "stream",
     "text": [
      "              precision    recall  f1-score   support\n",
      "\n",
      "        -1.0       0.77      0.67      0.71        15\n",
      "         1.0       0.71      0.80      0.75        15\n",
      "\n",
      "    accuracy                           0.73        30\n",
      "   macro avg       0.74      0.73      0.73        30\n",
      "weighted avg       0.74      0.73      0.73        30\n",
      "\n"
     ]
    }
   ],
   "source": [
    "y_pred_3 = clf.predict(X_test_3)\n",
    "\n",
    "report_3 = classification_report(y_test_3, y_pred_3)  \n",
    "print(report_3)"
   ]
  },
  {
   "cell_type": "code",
   "execution_count": 25,
   "metadata": {},
   "outputs": [
    {
     "data": {
      "image/png": "[encoded data removed]",
      "text/plain": [
       "<Figure size 432x288 with 1 Axes>"
      ]
     },
     "metadata": {
      "needs_background": "light"
     },
     "output_type": "display_data"
    }
   ],
   "source": [
    "lr_fpr, lr_tpr, _ = roc_curve(y_test_3, y_pred_3)\n",
    "\n",
    "plt.plot(lr_fpr, lr_tpr, marker='.')\n",
    "plt.show()"
   ]
  },
  {
   "cell_type": "code",
   "execution_count": 26,
   "metadata": {},
   "outputs": [
    {
     "name": "stdout",
     "output_type": "stream",
     "text": [
      "              precision    recall  f1-score   support\n",
      "\n",
      "        -1.0       0.75      1.00      0.86        15\n",
      "         1.0       1.00      0.67      0.80        15\n",
      "\n",
      "    accuracy                           0.83        30\n",
      "   macro avg       0.88      0.83      0.83        30\n",
      "weighted avg       0.88      0.83      0.83        30\n",
      "\n"
     ]
    }
   ],
   "source": [
    "y_pred_4 = clf.predict(X_test_4)\n",
    "\n",
    "report_4 = classification_report(y_test_4, y_pred_4)  \n",
    "print(report_4)"
   ]
  },
  {
   "cell_type": "code",
   "execution_count": 27,
   "metadata": {},
   "outputs": [
    {
     "data": {
      "image/png": "[encoded data removed]",
      "text/plain": [
       "<Figure size 432x288 with 1 Axes>"
      ]
     },
     "metadata": {
      "needs_background": "light"
     },
     "output_type": "display_data"
    }
   ],
   "source": [
    "lr_fpr, lr_tpr, _ = roc_curve(y_test_4, y_pred_4)\n",
    "\n",
    "plt.plot(lr_fpr, lr_tpr, marker='.')\n",
    "plt.show()"
   ]
  },
  {
   "cell_type": "code",
   "execution_count": 28,
   "metadata": {},
   "outputs": [
    {
     "name": "stdout",
     "output_type": "stream",
     "text": [
      "              precision    recall  f1-score   support\n",
      "\n",
      "        -1.0       0.85      0.73      0.79        15\n",
      "         1.0       0.76      0.87      0.81        15\n",
      "\n",
      "    accuracy                           0.80        30\n",
      "   macro avg       0.81      0.80      0.80        30\n",
      "weighted avg       0.81      0.80      0.80        30\n",
      "\n"
     ]
    }
   ],
   "source": [
    "y_pred_5 = clf.predict(X_test_5)\n",
    "\n",
    "report_5 = classification_report(y_test_5, y_pred_5)  \n",
    "print(report_5)"
   ]
  },
  {
   "cell_type": "code",
   "execution_count": null,
   "metadata": {},
   "outputs": [],
   "source": [
    "(94+80+84+77)/4"
   ]
  },
  {
   "cell_type": "code",
   "execution_count": null,
   "metadata": {},
   "outputs": [],
   "source": [
    "clf = RandomForestClassifier(max_depth=100, random_state=0)\n",
    "clf = clf.fit(X_train_1, y_train_1)"
   ]
  },
  {
   "cell_type": "code",
   "execution_count": null,
   "metadata": {},
   "outputs": [],
   "source": [
    "y_pred_1 = clf.predict(X_test_1)\n",
    "\n",
    "report_1 = classification_report(y_test_1, y_pred_1)  \n",
    "print(report_1)"
   ]
  },
  {
   "cell_type": "code",
   "execution_count": null,
   "metadata": {},
   "outputs": [],
   "source": [
    "clf = clf.fit(X_train_2, y_train_2)\n",
    "y_pred_2 = clf.predict(X_test_2)\n",
    "\n",
    "report_2 = classification_report(y_test_2, y_pred_2)  \n",
    "print(report_2)"
   ]
  },
  {
   "cell_type": "code",
   "execution_count": null,
   "metadata": {},
   "outputs": [],
   "source": [
    "clf = clf.fit(X_train_3, y_train_3)\n",
    "y_pred_3 = clf.predict(X_test_3)\n",
    "\n",
    "report_3 = classification_report(y_test_3, y_pred_3)  \n",
    "print(report_3)"
   ]
  },
  {
   "cell_type": "code",
   "execution_count": null,
   "metadata": {},
   "outputs": [],
   "source": [
    "clf = clf.fit(X_train_4, y_train_4)\n",
    "y_pred_4 = clf.predict(X_test_4)\n",
    "\n",
    "report_4 = classification_report(y_test_4, y_pred_4)  \n",
    "print(report_4)"
   ]
  },
  {
   "cell_type": "code",
   "execution_count": null,
   "metadata": {},
   "outputs": [],
   "source": [
    "clf = clf.fit(X_train_5, y_train_5)\n",
    "y_pred_5 = clf.predict(X_test_5)\n",
    "\n",
    "report_5 = classification_report(y_test_5, y_pred_5)  \n",
    "print(report_5)"
   ]
  },
  {
   "cell_type": "code",
   "execution_count": null,
   "metadata": {},
   "outputs": [],
   "source": []
  }
 ],
 "metadata": {
  "kernelspec": {
   "display_name": "Python 3",
   "language": "python",
   "name": "python3"
  },
  "language_info": {
   "codemirror_mode": {
    "name": "ipython",
    "version": 3
   },
   "file_extension": ".py",
   "mimetype": "text/x-python",
   "name": "python",
   "nbconvert_exporter": "python",
   "pygments_lexer": "ipython3",
   "version": "3.8.5"
  }
 },
 "nbformat": 4,
 "nbformat_minor": 4
}
